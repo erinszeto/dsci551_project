{
 "cells": [
  {
   "cell_type": "code",
   "execution_count": 1,
   "id": "broad-revolution",
   "metadata": {},
   "outputs": [],
   "source": [
    "import os\n",
    "import pandas as pd"
   ]
  },
  {
   "cell_type": "code",
   "execution_count": 2,
   "id": "offshore-invite",
   "metadata": {},
   "outputs": [
    {
     "data": {
      "text/plain": [
       "['cves9.csv',\n",
       " 'cves8.csv',\n",
       " 'cves_old.csv',\n",
       " 'cves10.csv',\n",
       " 'cves3.csv',\n",
       " 'cves2.csv',\n",
       " 'cves1.csv',\n",
       " 'cves5.csv',\n",
       " 'cves4.csv',\n",
       " 'cves6.csv',\n",
       " 'cves7.csv']"
      ]
     },
     "execution_count": 2,
     "metadata": {},
     "output_type": "execute_result"
    }
   ],
   "source": [
    "files = [file for file in os.listdir() if \".csv\" in file]\n",
    "files.remove('cves.csv')\n",
    "files.remove('test.csv')\n",
    "files"
   ]
  },
  {
   "cell_type": "code",
   "execution_count": 3,
   "id": "internal-upper",
   "metadata": {},
   "outputs": [],
   "source": [
    "cves = pd.DataFrame()\n",
    "\n",
    "for file in files:\n",
    "    df = pd.read_csv(file)\n",
    "    cves = pd.concat([cves,df])"
   ]
  },
  {
   "cell_type": "code",
   "execution_count": 4,
   "id": "honey-fight",
   "metadata": {},
   "outputs": [],
   "source": [
    "cves = cves.reset_index(drop=True)"
   ]
  },
  {
   "cell_type": "code",
   "execution_count": 5,
   "id": "incorrect-ability",
   "metadata": {},
   "outputs": [],
   "source": [
    "cves.to_csv('cves.csv',index=False)"
   ]
  },
  {
   "cell_type": "code",
   "execution_count": 6,
   "id": "third-possible",
   "metadata": {},
   "outputs": [
    {
     "data": {
      "text/plain": [
       "LOW     56032\n",
       "HIGH     3350\n",
       "Name: attackComplexity, dtype: int64"
      ]
     },
     "execution_count": 6,
     "metadata": {},
     "output_type": "execute_result"
    }
   ],
   "source": [
    "cves[\"attackComplexity\"].value_counts()"
   ]
  },
  {
   "cell_type": "code",
   "execution_count": 7,
   "id": "parallel-annex",
   "metadata": {},
   "outputs": [
    {
     "data": {
      "text/plain": [
       "HIGH        25047\n",
       "MEDIUM      24198\n",
       "CRITICAL     8889\n",
       "LOW          1248\n",
       "Name: baseSeverity, dtype: int64"
      ]
     },
     "execution_count": 7,
     "metadata": {},
     "output_type": "execute_result"
    }
   ],
   "source": [
    "cves[\"baseSeverity\"].value_counts()"
   ]
  },
  {
   "cell_type": "code",
   "execution_count": 8,
   "id": "sized-apache",
   "metadata": {},
   "outputs": [
    {
     "data": {
      "text/plain": [
       "Index(['id', 'description', 'references', 'publishedDate', 'lastModifiedDate',\n",
       "       'attackVector', 'attackComplexity', 'baseScore', 'baseSeverity'],\n",
       "      dtype='object')"
      ]
     },
     "execution_count": 8,
     "metadata": {},
     "output_type": "execute_result"
    }
   ],
   "source": [
    "cves.columns"
   ]
  },
  {
   "cell_type": "code",
   "execution_count": 11,
   "id": "brave-montreal",
   "metadata": {},
   "outputs": [
    {
     "name": "stdout",
     "output_type": "stream",
     "text": [
      "<class 'pandas.core.frame.DataFrame'>\n",
      "RangeIndex: 59843 entries, 0 to 59842\n",
      "Data columns (total 9 columns):\n",
      " #   Column            Non-Null Count  Dtype  \n",
      "---  ------            --------------  -----  \n",
      " 0   id                59843 non-null  object \n",
      " 1   description       59843 non-null  object \n",
      " 2   references        59841 non-null  object \n",
      " 3   publishedDate     59843 non-null  object \n",
      " 4   lastModifiedDate  59843 non-null  object \n",
      " 5   attackVector      59382 non-null  object \n",
      " 6   attackComplexity  59382 non-null  object \n",
      " 7   baseScore         59382 non-null  float64\n",
      " 8   baseSeverity      59382 non-null  object \n",
      "dtypes: float64(1), object(8)\n",
      "memory usage: 4.1+ MB\n"
     ]
    }
   ],
   "source": [
    "cves.info()"
   ]
  },
  {
   "cell_type": "code",
   "execution_count": 12,
   "id": "artistic-kernel",
   "metadata": {},
   "outputs": [
    {
     "data": {
      "text/html": [
       "<div>\n",
       "<style scoped>\n",
       "    .dataframe tbody tr th:only-of-type {\n",
       "        vertical-align: middle;\n",
       "    }\n",
       "\n",
       "    .dataframe tbody tr th {\n",
       "        vertical-align: top;\n",
       "    }\n",
       "\n",
       "    .dataframe thead th {\n",
       "        text-align: right;\n",
       "    }\n",
       "</style>\n",
       "<table border=\"1\" class=\"dataframe\">\n",
       "  <thead>\n",
       "    <tr style=\"text-align: right;\">\n",
       "      <th></th>\n",
       "      <th>id</th>\n",
       "      <th>description</th>\n",
       "      <th>references</th>\n",
       "      <th>publishedDate</th>\n",
       "      <th>lastModifiedDate</th>\n",
       "      <th>attackVector</th>\n",
       "      <th>attackComplexity</th>\n",
       "      <th>baseScore</th>\n",
       "      <th>baseSeverity</th>\n",
       "    </tr>\n",
       "  </thead>\n",
       "  <tbody>\n",
       "    <tr>\n",
       "      <th>0</th>\n",
       "      <td>CVE-2018-18876</td>\n",
       "      <td>In firmware version MS_2.6.9900 of Columbia We...</td>\n",
       "      <td>https://applied-risk.com/labs/advisories;https...</td>\n",
       "      <td>2019-06-18T15:15Z</td>\n",
       "      <td>2019-06-18T19:27Z</td>\n",
       "      <td>NETWORK</td>\n",
       "      <td>LOW</td>\n",
       "      <td>5.3</td>\n",
       "      <td>MEDIUM</td>\n",
       "    </tr>\n",
       "    <tr>\n",
       "      <th>1</th>\n",
       "      <td>CVE-2018-18877</td>\n",
       "      <td>In firmware version MS_2.6.9900 of Columbia We...</td>\n",
       "      <td>https://applied-risk.com/labs/advisories;https...</td>\n",
       "      <td>2019-06-18T15:15Z</td>\n",
       "      <td>2019-06-18T19:18Z</td>\n",
       "      <td>NETWORK</td>\n",
       "      <td>LOW</td>\n",
       "      <td>8.8</td>\n",
       "      <td>HIGH</td>\n",
       "    </tr>\n",
       "    <tr>\n",
       "      <th>2</th>\n",
       "      <td>CVE-2019-4381</td>\n",
       "      <td>IBM i 7.27.3 Clustering could allow a local at...</td>\n",
       "      <td>https://www.ibm.com/support/docview.wss?uid=ib...</td>\n",
       "      <td>2019-06-14T15:29Z</td>\n",
       "      <td>2019-06-18T19:15Z</td>\n",
       "      <td>LOCAL</td>\n",
       "      <td>LOW</td>\n",
       "      <td>7.8</td>\n",
       "      <td>HIGH</td>\n",
       "    </tr>\n",
       "    <tr>\n",
       "      <th>3</th>\n",
       "      <td>CVE-2019-9647</td>\n",
       "      <td>Gila CMS 1.9.1 has XSS.</td>\n",
       "      <td>https://gilacms.com/blog;http://packetstormsec...</td>\n",
       "      <td>2019-06-05T16:29Z</td>\n",
       "      <td>2019-06-06T12:17Z</td>\n",
       "      <td>NETWORK</td>\n",
       "      <td>LOW</td>\n",
       "      <td>6.1</td>\n",
       "      <td>MEDIUM</td>\n",
       "    </tr>\n",
       "    <tr>\n",
       "      <th>4</th>\n",
       "      <td>CVE-2019-10719</td>\n",
       "      <td>BlogEngine.NET 3.3.7.0 and earlier allows Dire...</td>\n",
       "      <td>https://www.securitymetrics.com/blog/BlogEngin...</td>\n",
       "      <td>2019-06-21T19:15Z</td>\n",
       "      <td>2019-06-23T19:32Z</td>\n",
       "      <td>NETWORK</td>\n",
       "      <td>LOW</td>\n",
       "      <td>8.8</td>\n",
       "      <td>HIGH</td>\n",
       "    </tr>\n",
       "  </tbody>\n",
       "</table>\n",
       "</div>"
      ],
      "text/plain": [
       "               id                                        description  \\\n",
       "0  CVE-2018-18876  In firmware version MS_2.6.9900 of Columbia We...   \n",
       "1  CVE-2018-18877  In firmware version MS_2.6.9900 of Columbia We...   \n",
       "2   CVE-2019-4381  IBM i 7.27.3 Clustering could allow a local at...   \n",
       "3   CVE-2019-9647                            Gila CMS 1.9.1 has XSS.   \n",
       "4  CVE-2019-10719  BlogEngine.NET 3.3.7.0 and earlier allows Dire...   \n",
       "\n",
       "                                          references      publishedDate  \\\n",
       "0  https://applied-risk.com/labs/advisories;https...  2019-06-18T15:15Z   \n",
       "1  https://applied-risk.com/labs/advisories;https...  2019-06-18T15:15Z   \n",
       "2  https://www.ibm.com/support/docview.wss?uid=ib...  2019-06-14T15:29Z   \n",
       "3  https://gilacms.com/blog;http://packetstormsec...  2019-06-05T16:29Z   \n",
       "4  https://www.securitymetrics.com/blog/BlogEngin...  2019-06-21T19:15Z   \n",
       "\n",
       "    lastModifiedDate attackVector attackComplexity  baseScore baseSeverity  \n",
       "0  2019-06-18T19:27Z      NETWORK              LOW        5.3       MEDIUM  \n",
       "1  2019-06-18T19:18Z      NETWORK              LOW        8.8         HIGH  \n",
       "2  2019-06-18T19:15Z        LOCAL              LOW        7.8         HIGH  \n",
       "3  2019-06-06T12:17Z      NETWORK              LOW        6.1       MEDIUM  \n",
       "4  2019-06-23T19:32Z      NETWORK              LOW        8.8         HIGH  "
      ]
     },
     "execution_count": 12,
     "metadata": {},
     "output_type": "execute_result"
    }
   ],
   "source": [
    "cves.head()"
   ]
  },
  {
   "cell_type": "code",
   "execution_count": null,
   "id": "leading-talent",
   "metadata": {},
   "outputs": [],
   "source": []
  }
 ],
 "metadata": {
  "kernelspec": {
   "display_name": "Python 3",
   "language": "python",
   "name": "python3"
  },
  "language_info": {
   "codemirror_mode": {
    "name": "ipython",
    "version": 3
   },
   "file_extension": ".py",
   "mimetype": "text/x-python",
   "name": "python",
   "nbconvert_exporter": "python",
   "pygments_lexer": "ipython3",
   "version": "3.8.6"
  }
 },
 "nbformat": 4,
 "nbformat_minor": 5
}
